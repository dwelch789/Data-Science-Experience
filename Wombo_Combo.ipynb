{
 "cells": [
  {
   "cell_type": "code",
   "execution_count": null,
   "id": "4e994d9c-b452-4a9c-9742-a0d7cffc089b",
   "metadata": {},
   "outputs": [],
   "source": [
    "import pandas as pd\n",
    "from sklearn.feature_extraction.text import TfidfVectorizer\n",
    "from sklearn.metrics.pairwise import linear_kernel, cosine_similarity\n",
    "from surprise import Reader, Dataset, SVD\n",
    "from surprise.model_selection import cross_validate, GridSearchCV\n",
    "from mlxtend.preprocessing import TransactionEncoder\n",
    "from mlxtend.frequent_patterns import apriori, association_rules\n",
    "from scipy.sparse import csr_matrix"
   ]
  },
  {
   "cell_type": "code",
   "execution_count": null,
   "id": "47784624",
   "metadata": {},
   "outputs": [],
   "source": [
    "movies = pd.read_csv('clean_movies.csv')\n",
    "movies.head()"
   ]
  },
  {
   "cell_type": "code",
   "execution_count": null,
   "id": "bc8ac3ea",
   "metadata": {},
   "outputs": [],
   "source": [
    "links_small = pd.read_csv('links_small.csv')\n",
    "links_small = links_small[links_small['tmdbId'].notnull()]['tmdbId'].astype('int')\n",
    "links_small.head()"
   ]
  },
  {
   "cell_type": "code",
   "execution_count": null,
   "id": "7e5cd1b5-d1ae-4bed-a170-34bb87f59eac",
   "metadata": {
    "scrolled": true
   },
   "outputs": [],
   "source": [
    "\n",
    "movies['id'] = movies['id'].astype('int')\n",
    "small_movies = movies[movies['id'].isin(links_small)]\n",
    "small_movies.shape"
   ]
  },
  {
   "cell_type": "code",
   "execution_count": null,
   "id": "28c941de",
   "metadata": {},
   "outputs": [],
   "source": [
    "overviews = small_movies['overview'].fillna('')\n",
    "tfidf = TfidfVectorizer(stop_words='english', max_features=5000)\n",
    "tfidf_matirx = tfidf.fit_transform(overviews)\n",
    "cosine_sim = cosine_similarity(tfidf_matirx, tfidf_matirx)\n",
    "tfidf_matirx.shape"
   ]
  },
  {
   "cell_type": "code",
   "execution_count": null,
   "id": "9b2c0835-c442-4261-a61b-1ab2dbec3900",
   "metadata": {},
   "outputs": [],
   "source": [
    "small_movies = small_movies.reset_index()\n",
    "titles = small_movies['original_title']\n",
    "indices = pd.Series(small_movies.index, index=small_movies['original_title'])"
   ]
  },
  {
   "cell_type": "code",
   "execution_count": null,
   "id": "87b8e588-e30d-4044-b619-3a81b3eef61b",
   "metadata": {},
   "outputs": [],
   "source": [
    "def get_movie(title):\n",
    "    index = indices[title]\n",
    "    scores = list(enumerate(cosine_sim[index]))\n",
    "    scores = sorted(scores, key=lambda x: x[1], reverse=True)\n",
    "    scores = scores[1:51]\n",
    "    movie_indices = [i[0] for i in scores]\n",
    "    return titles.iloc[movie_indices]"
   ]
  },
  {
   "cell_type": "code",
   "execution_count": null,
   "id": "91c545c2-a5dc-45c6-a14f-e3348fd64a52",
   "metadata": {},
   "outputs": [],
   "source": [
    "get_movie('The Godfather').head(10)"
   ]
  },
  {
   "cell_type": "code",
   "execution_count": null,
   "id": "e635e4f8-50c7-4109-99ee-dbc5be03e996",
   "metadata": {},
   "outputs": [],
   "source": [
    "\n",
    "reader = Reader(rating_scale=(1,5))\n",
    "ratings = pd.read_csv('ratings_small.csv')\n",
    "ratings.head()"
   ]
  },
  {
   "cell_type": "code",
   "execution_count": null,
   "id": "afdbadf4-dea5-48ce-a898-5c6f0081e153",
   "metadata": {},
   "outputs": [],
   "source": [
    "ratings2 = Dataset.load_from_df(ratings[['userId', 'movieId', 'rating']], reader)\n",
    "params = {'n_factors': [25, 50, 100],\n",
    "         'reg_all': [.02, .05, .1]}\n",
    "g_s_svd = GridSearchCV(SVD, param_grid=params, n_jobs=-1)\n",
    "g_s_svd.fit(ratings2)\n",
    "print(\"Best Parameters:\", g_s_svd.best_params)"
   ]
  },
  {
   "cell_type": "code",
   "execution_count": null,
   "id": "ca19614d",
   "metadata": {},
   "outputs": [],
   "source": [
    "svd = SVD(n_factors=25, reg_all=0.05)\n",
    "cross_validate(svd, ratings2, measures=['RMSE', 'MAE'], cv=5, verbose=True)"
   ]
  },
  {
   "cell_type": "code",
   "execution_count": null,
   "id": "ecef7aac-e0c4-445d-8dab-8252a9503e68",
   "metadata": {},
   "outputs": [],
   "source": [
    "training = ratings2.build_full_trainset()\n",
    "svd.fit(training)"
   ]
  },
  {
   "cell_type": "code",
   "execution_count": null,
   "id": "5b9f0a7e-52b0-4352-b22a-d6f76d0f53fa",
   "metadata": {},
   "outputs": [],
   "source": [
    "svd.predict(1,31)"
   ]
  },
  {
   "cell_type": "code",
   "execution_count": null,
   "id": "2f002eac",
   "metadata": {},
   "outputs": [],
   "source": [
    "svd.predict(1,1061)"
   ]
  },
  {
   "cell_type": "code",
   "execution_count": null,
   "id": "aec406dd",
   "metadata": {},
   "outputs": [],
   "source": [
    "svd.predict(1,1029)"
   ]
  },
  {
   "cell_type": "code",
   "execution_count": null,
   "id": "3276749d",
   "metadata": {},
   "outputs": [],
   "source": [
    "svd.predict(1,1129)"
   ]
  },
  {
   "cell_type": "code",
   "execution_count": null,
   "id": "f05e2c0d",
   "metadata": {},
   "outputs": [],
   "source": [
    "links = pd.read_csv('links_small.csv')[['movieId', 'tmdbId']]\n",
    "small_movies.rename(columns={'original_title': 'title'}, inplace=True)\n",
    "links_small_df = links_small.reset_index()\n",
    "links_small_df.columns = ['movieId', 'id']\n",
    "combo_set = links_small_df.merge(small_movies[['title', 'id']], on = 'id').set_index('title')\n",
    "wombo_set = combo_set.set_index('id')\n",
    "combo_set.head()"
   ]
  },
  {
   "cell_type": "code",
   "execution_count": null,
   "id": "9af870c8",
   "metadata": {},
   "outputs": [],
   "source": [
    "def wombo_combo(userId, title):\n",
    "    index = indices[title]\n",
    "    tmdbId = combo_set.loc[title]['id']\n",
    "    movieId = combo_set.loc[title]['movieId']\n",
    "    scores = list(enumerate(cosine_sim[index]))\n",
    "    scores = sorted(scores, key=lambda x: x[1], reverse=True)\n",
    "    scores = scores[1:26]\n",
    "    movie_indices = [i[0] for i in scores]\n",
    "    movies = small_movies.iloc[movie_indices][['title', 'id']]\n",
    "    movies['prediction'] = movies['id'].apply(lambda x: svd.predict(userId, wombo_set.loc[x]['movieId']).est)\n",
    "    movies = movies.sort_values('prediction', ascending=False)\n",
    "    return movies.head(10)"
   ]
  },
  {
   "cell_type": "code",
   "execution_count": 17,
   "id": "ce3d4e69",
   "metadata": {},
   "outputs": [
    {
     "data": {
      "text/html": [
       "<div>\n",
       "<style scoped>\n",
       "    .dataframe tbody tr th:only-of-type {\n",
       "        vertical-align: middle;\n",
       "    }\n",
       "\n",
       "    .dataframe tbody tr th {\n",
       "        vertical-align: top;\n",
       "    }\n",
       "\n",
       "    .dataframe thead th {\n",
       "        text-align: right;\n",
       "    }\n",
       "</style>\n",
       "<table border=\"1\" class=\"dataframe\">\n",
       "  <thead>\n",
       "    <tr style=\"text-align: right;\">\n",
       "      <th></th>\n",
       "      <th>title</th>\n",
       "      <th>id</th>\n",
       "      <th>prediction</th>\n",
       "    </tr>\n",
       "  </thead>\n",
       "  <tbody>\n",
       "    <tr>\n",
       "      <th>4420</th>\n",
       "      <td>Just Married</td>\n",
       "      <td>12090</td>\n",
       "      <td>4.429952</td>\n",
       "    </tr>\n",
       "    <tr>\n",
       "      <th>1716</th>\n",
       "      <td>Surf Nazis Must Die</td>\n",
       "      <td>28070</td>\n",
       "      <td>4.416248</td>\n",
       "    </tr>\n",
       "    <tr>\n",
       "      <th>930</th>\n",
       "      <td>Delicatessen</td>\n",
       "      <td>892</td>\n",
       "      <td>4.097667</td>\n",
       "    </tr>\n",
       "    <tr>\n",
       "      <th>6174</th>\n",
       "      <td>Must Love Dogs</td>\n",
       "      <td>11648</td>\n",
       "      <td>4.053477</td>\n",
       "    </tr>\n",
       "    <tr>\n",
       "      <th>2832</th>\n",
       "      <td>The Hunger</td>\n",
       "      <td>11654</td>\n",
       "      <td>3.935056</td>\n",
       "    </tr>\n",
       "    <tr>\n",
       "      <th>1526</th>\n",
       "      <td>Labyrinth</td>\n",
       "      <td>13597</td>\n",
       "      <td>3.915452</td>\n",
       "    </tr>\n",
       "    <tr>\n",
       "      <th>8744</th>\n",
       "      <td>Terminator Genisys</td>\n",
       "      <td>87101</td>\n",
       "      <td>3.898967</td>\n",
       "    </tr>\n",
       "    <tr>\n",
       "      <th>7407</th>\n",
       "      <td>The Book of Eli</td>\n",
       "      <td>20504</td>\n",
       "      <td>3.879114</td>\n",
       "    </tr>\n",
       "    <tr>\n",
       "      <th>7208</th>\n",
       "      <td>Terminator Salvation</td>\n",
       "      <td>534</td>\n",
       "      <td>3.879114</td>\n",
       "    </tr>\n",
       "    <tr>\n",
       "      <th>8297</th>\n",
       "      <td>Stories We Tell</td>\n",
       "      <td>128216</td>\n",
       "      <td>3.879114</td>\n",
       "    </tr>\n",
       "  </tbody>\n",
       "</table>\n",
       "</div>"
      ],
      "text/plain": [
       "                     title      id  prediction\n",
       "4420          Just Married   12090    4.429952\n",
       "1716   Surf Nazis Must Die   28070    4.416248\n",
       "930           Delicatessen     892    4.097667\n",
       "6174        Must Love Dogs   11648    4.053477\n",
       "2832            The Hunger   11654    3.935056\n",
       "1526             Labyrinth   13597    3.915452\n",
       "8744    Terminator Genisys   87101    3.898967\n",
       "7407       The Book of Eli   20504    3.879114\n",
       "7208  Terminator Salvation     534    3.879114\n",
       "8297       Stories We Tell  128216    3.879114"
      ]
     },
     "execution_count": 17,
     "metadata": {},
     "output_type": "execute_result"
    }
   ],
   "source": [
    "wombo_combo(112, 'The Terminator')"
   ]
  },
  {
   "cell_type": "code",
   "execution_count": null,
   "id": "41eb00b2",
   "metadata": {},
   "outputs": [],
   "source": [
    "wide_ratings = pd.read_csv('ratings_wide.csv')\n",
    "first_2_rows = wide_ratings.head(2)\n",
    "first_2_rows = first_2_rows.fillna(0)\n",
    "wide_ratings.head()"
   ]
  },
  {
   "cell_type": "code",
   "execution_count": null,
   "id": "1e8ca982",
   "metadata": {},
   "outputs": [],
   "source": [
    "wide_ratings = pd.read_csv('ratings_wide.csv')\n",
    "first_2_rows = wide_ratings.head(2)\n",
    "first_2_rows = first_2_rows.fillna(0)\n",
    "wide_ratings.head()"
   ]
  },
  {
   "cell_type": "code",
   "execution_count": null,
   "id": "d6169b63",
   "metadata": {},
   "outputs": [],
   "source": [
    "itemsets = apriori(first_2_rows, min_support=0.05, use_colnames=True)"
   ]
  },
  {
   "cell_type": "code",
   "execution_count": null,
   "id": "f7381c7a",
   "metadata": {},
   "outputs": [],
   "source": []
  },
  {
   "cell_type": "code",
   "execution_count": null,
   "id": "0eb4d36e",
   "metadata": {},
   "outputs": [],
   "source": []
  }
 ],
 "metadata": {
  "kernelspec": {
   "display_name": "venv",
   "language": "python",
   "name": "python3"
  },
  "language_info": {
   "codemirror_mode": {
    "name": "ipython",
    "version": 3
   },
   "file_extension": ".py",
   "mimetype": "text/x-python",
   "name": "python",
   "nbconvert_exporter": "python",
   "pygments_lexer": "ipython3",
   "version": "3.12.8"
  }
 },
 "nbformat": 4,
 "nbformat_minor": 5
}
